{
  "nbformat": 4,
  "nbformat_minor": 0,
  "metadata": {
    "kernelspec": {
      "display_name": "Python 3",
      "language": "python",
      "name": "python3"
    },
    "language_info": {
      "codemirror_mode": {
        "name": "ipython",
        "version": 3
      },
      "file_extension": ".py",
      "mimetype": "text/x-python",
      "name": "python",
      "nbconvert_exporter": "python",
      "pygments_lexer": "ipython3",
      "version": "3.8.3"
    },
    "colab": {
      "provenance": []
    }
  },
  "cells": [
    {
      "cell_type": "markdown",
      "metadata": {
        "id": "O1banL0W_WXT"
      },
      "source": [
        "# AI6124 Assignment 4\n",
        "\n",
        "Created by A/Prof Kai Keng ANG (kkang@i2r.a-star.edu.sg, kkang@ntu.edu.sg). Last modified 21 Oct 2024\n",
        "\n",
        "Submitted by: [Woon Khai SHen] Mat ID: [G2304398L]"
      ]
    },
    {
      "cell_type": "markdown",
      "metadata": {
        "id": "a0lMtzp0_sva"
      },
      "source": [
        "# Instructions\n",
        "\n",
        "Enter your name according to NTU Learn, and your student ID above. Do not include the square brackets. Please save the file as POPFNN_[Student name].ipynb and submit in NTU Learn.\n",
        "\n",
        "There are 9 questions in this assignment. Some questions have multiple parts, and the last question has 2 marks. Please read the question and hints carefully. This assignment has more open ended questions than Assignment 3. Code for some of the questions are also to be in the POPFNN class, not just below the question. So read carefully."
      ]
    },
    {
      "cell_type": "markdown",
      "metadata": {
        "id": "8PxCWo-0ApHS"
      },
      "source": [
        "# Objective\n",
        "In this tutorial, you will implement derivation of fuzzy if-then rules using Pseudo Outer Product (POP) Learning in POPFNN.\n",
        "\n",
        "After completing this tutorial, you will know:\n",
        "\n",
        "* How to apply what you leaned in the previous AI6124 assignment 3 to implement membership functions\n",
        "* How to code a function to generate a given number of membership functions that span the input space of the data\n",
        "* How to apply Learning Vector Quantization (LVQ), a clustering algorithm to generate interpretable membership functions from the dataset\n",
        "* How to implement a simple fuzzy rule identification Pseudo Outer-Product (POP) learning algorithm to identify if-then-fuzzy rules using the generated membership functions and the dataset\n",
        "* How to optimize the if-then-fuzzy rules identified\n",
        "\n",
        "Prerequisites:\n",
        "1. Python programming. https://docs.python.org/3/tutorial/.\n",
        "2. Completion and understanding of AI6124 Assignment 3\n",
        "3. Fuzzylab\n",
        "4. AI6124 Lectures 9, 10, 11\n",
        "\n",
        "Feel free to edit and use some code from this notebook for your group project, but please remove the assignment questions and your answers."
      ]
    },
    {
      "cell_type": "markdown",
      "metadata": {
        "id": "gp0oLASX_WXX"
      },
      "source": [
        "# Introduction\n",
        "\n",
        "First we install the Fuzzy Logic libraries, and import the necessary libraries."
      ]
    },
    {
      "cell_type": "code",
      "metadata": {
        "id": "_ERfle_d_WXa"
      },
      "source": [
        "!pip install -U fuzzylab\n",
        "import numpy as np\n",
        "import matplotlib.pyplot as plt\n",
        "from random import seed\n",
        "import sys\n",
        "import fuzzylab as fz\n"
      ],
      "execution_count": null,
      "outputs": []
    },
    {
      "cell_type": "markdown",
      "metadata": {
        "id": "AjVKbXdR_WXc"
      },
      "source": [
        "# 1. Fuzzy Membership and NFS basics\n",
        "\n",
        "In order to use Fuzzy Membership functions and a Neuro-Fuzzy System such as POPFNN, we need to create the basic functions and classes to store the parameters."
      ]
    },
    {
      "cell_type": "markdown",
      "source": [
        "In this tutorial, we will use the Guassian 2mf membership function. This function has 2 parameters more than the Gaussian membership function. Both are provided for reference. An evalmf function is also included to call the respective function to evaluate a membership output."
      ],
      "metadata": {
        "id": "o1UkU02LBP_O"
      }
    },
    {
      "cell_type": "code",
      "metadata": {
        "id": "k9MbXzhC_WXc"
      },
      "source": [
        "def gaussmf(x, params):\n",
        "    assert len(params) == 2, 'Gaussmf function must have 2 parameters.'\n",
        "    sig, c = np.asarray(params)\n",
        "    return np.exp(-pow((x - c), 2) / (2 * pow(sig, 2)))\n",
        "\n",
        "def gauss2mf(x, params):\n",
        "    assert len(params) == 4, 'Gauss2mf function must have 4 parameters.'\n",
        "    sig1, c1, sig2, c2 = np.asarray(params)\n",
        "    assert c1 <= c2, 'c1 <= c2 is required.'\n",
        "    if np.isscalar(x):\n",
        "        if x<=c1:\n",
        "            y=gaussmf(x, [sig1, c1])\n",
        "        else:\n",
        "            y=gaussmf(x,[sig2, c2])\n",
        "    else:\n",
        "        y = np.ones(len(x))\n",
        "        idx1 = (x <= c1)\n",
        "        idx2 = (x > c2)\n",
        "        y[idx1] = gaussmf(x[idx1], [sig1, c1])\n",
        "        y[idx2] = gaussmf(x[idx2], [sig2, c2])\n",
        "    return y\n",
        "\n",
        "# This function overwrites the evalmf function of the fuzzy logic toolbox by looking for the function name defined by\n",
        "# mf.Type and calling it directly.\n",
        "def evalmf(mf, x):\n",
        "    possibles = globals().copy()\n",
        "    possibles.update(locals())\n",
        "    method = possibles.get(mf.Type)\n",
        "    return method(x, mf.Parameters)"
      ],
      "execution_count": null,
      "outputs": []
    },
    {
      "cell_type": "markdown",
      "metadata": {
        "id": "fZLzVz8n_WXd"
      },
      "source": [
        "## Fuzzy Membership Function and POPFNN classes\n",
        "\n",
        "Next we create a Fuzzy Membership function class to store the Fuzzy Membership function created, and a POPFNN class to store the input, output and fuzzy rules created."
      ]
    },
    {
      "cell_type": "code",
      "metadata": {
        "id": "gnDrL4hT_WXe"
      },
      "source": [
        "class fuzzymf(object):\n",
        "    def __init__(self, Type, Parameters):\n",
        "        self.Type = Type\n",
        "        self.Parameters = Parameters\n",
        "    def __repr__(self):\n",
        "            return 'fismf, '\\\n",
        "                ' Type: %s, '\\\n",
        "                ' Parameters: %s\\n'\\\n",
        "                % (self.Type,self.Parameters)\n",
        "\n",
        "class popfnn(object):\n",
        "    In_mf:fuzzymf\n",
        "    Out_mf:fuzzymf\n",
        "    N_inputs:int\n",
        "    N_outlabels:int\n",
        "    Lut_m:np\n",
        "    Lut_d:np\n",
        "    N_rules:int\n",
        "    Pweights:np\n",
        "\n",
        "    def __init__(self, In_mf, Out_mf):\n",
        "        self.In_mf = In_mf\n",
        "        self.Out_mf = Out_mf\n",
        "\n",
        "        self.N_inputs=len(self.In_mf)\n",
        "        self.N_outlabels=len(self.Out_mf[0])\n",
        "        self.Lut_m=np.empty(self.N_inputs, np.int8)\n",
        "        self.Lut_d=np.empty(self.N_inputs, np.int8)\n",
        "\n",
        "        # Calculate lookup tables for rule access\n",
        "        self.N_rules = 1\n",
        "        for i in range(self.N_inputs):\n",
        "            self.Lut_m[i] = len(self.In_mf[i]) #n_mf\n",
        "            self.Lut_d[i] = 1\n",
        "            self.N_rules = self.N_rules * self.Lut_m[0]\n",
        "            for j in range(i):\n",
        "                self.Lut_d[j] = self.Lut_d[j] * self.Lut_m[j]\n",
        "\n",
        "        # Initialize pseudo weights for all rules\n",
        "        self.pweights = np.zeros([self.N_rules,self.N_outlabels])\n",
        "\n",
        "    # returns the membership label given rule number and the ninput\n",
        "    def getlabel(self, rule, ninput):\n",
        "        return ( int((int(rule)/(self.Lut_d[ninput]))%self.Lut_m[ninput]));\n",
        "\n",
        "    # prints all the rules\n",
        "    def printruleslabels(self):\n",
        "        print('N_inputs=',self.N_inputs)\n",
        "        print('N_rules=',self.N_rules)\n",
        "        print('N_output_mf=',self.N_outlabels)\n",
        "        print('rule_number, labels, pweights')\n",
        "        for i in range(self.N_rules):\n",
        "            print(i,end = ' ')\n",
        "            for j in range(self.N_inputs):\n",
        "                print(self.getlabel(i,j),end = ' ')\n",
        "            for j in range(self.N_outlabels):\n",
        "                print(self.pweights[i][j],end = ' ')\n",
        "            print(' ')\n",
        "\n",
        "    # Enter code for question 8 here for print_int_labels\n",
        "\n",
        "    def poplearn(self, x, y):\n",
        "        for r in range(self.N_rules):\n",
        "            min_t=1.0\n",
        "            for i in range(self.N_inputs):\n",
        "                # Get the label of input i for rule r\n",
        "                label=self.getlabel(r,i)\n",
        "                # Compute membership of input i\n",
        "                t=evalmf(self.In_mf[i][label],x[i])\n",
        "                # Compute min across all input membership functions\n",
        "                min_t=min(min_t,t)\n",
        "            for i in range(self.N_outlabels):\n",
        "                t=evalmf(self.Out_mf[0][i],y)\n",
        "                self.pweights[r][i]+=min_t*t\n",
        "\n",
        "    # Enter code for question 5 here for function identify_rules\n",
        "\n",
        "    # Enter code for question 9 here for function poppredict(self, x) and return predicted y\n"
      ],
      "execution_count": null,
      "outputs": []
    },
    {
      "cell_type": "markdown",
      "metadata": {
        "id": "9ZipU55h_WXf"
      },
      "source": [
        "# 2. Generating Fuzzy Membership functions by spanning the input space\n",
        "\n",
        "Next we create a simple function to generate a given number of membership functions that span the input space of the data."
      ]
    },
    {
      "cell_type": "code",
      "metadata": {
        "id": "Z4Y2Jq54_WXg"
      },
      "source": [
        "# This function creates nlabels number of gauss2mf that spans min and max of the inputs\n",
        "def span_learnmem(x, params):\n",
        "\n",
        "    assert len(params) == 2, 'spam_learnmem function must have 2 parameters.'\n",
        "    nlabels, width = np.asarray(params)\n",
        "    nlabels=int(nlabels)\n",
        "\n",
        "    # First get the max and min of each dimension\n",
        "    maxx=np.amax(x, axis=0)\n",
        "    minx=np.amin(x, axis=0)\n",
        "\n",
        "    if x.ndim==1:\n",
        "        ninputs=1\n",
        "    else:\n",
        "        ninputs=np.size(x,1)\n",
        "\n",
        "    fis=[]\n",
        "    for i in range(ninputs):\n",
        "        if ninputs==1:\n",
        "            centroids=np.linspace(minx,maxx,int(nlabels))\n",
        "        else:\n",
        "            centroids=np.linspace(minx[i],maxx[i],int(nlabels))\n",
        "        sig=(centroids[1]-centroids[0])*width\n",
        "        mf=[]\n",
        "        for j in range(nlabels):\n",
        "            mf.append(fuzzymf(Type = 'gauss2mf', Parameters = [sig, centroids[j], sig, centroids[j]]))\n",
        "        fis.append(mf)\n",
        "    return fis\n"
      ],
      "execution_count": null,
      "outputs": []
    },
    {
      "cell_type": "markdown",
      "metadata": {
        "id": "iVPF7OQ7_WXh"
      },
      "source": [
        "# 3. Generate Training dataset\n",
        "\n",
        "Now we generate a dataset to train the Neuro Fuzzy System."
      ]
    },
    {
      "cell_type": "code",
      "metadata": {
        "id": "4DWtTIzf_WXh"
      },
      "source": [
        "seed(1)\n",
        "dataset = np.random.randn(200,2)\n",
        "dataset[0:100]+=(+2)\n",
        "dataset[101:200]+=(-2)\n",
        "labels=np.array([1]*100)\n",
        "labels=np.append(labels,[2]*100)\n",
        "#labels=labels.transpose()\n",
        "plt.scatter(dataset[labels==1,0], dataset[labels==1,1])\n",
        "plt.scatter(dataset[labels==2,0], dataset[labels==2,1])\n",
        "plt.legend(['y=1','y=2'])\n",
        "plt.xlabel('$x_1$')\n",
        "plt.ylabel('$x_2$')"
      ],
      "execution_count": null,
      "outputs": []
    },
    {
      "cell_type": "markdown",
      "metadata": {
        "id": "4XbMpWPi_WXi"
      },
      "source": [
        "# 4. Train the fuzzy membership functions\n",
        "\n",
        "Now we use the span_learnmem function to generate the fuzzy membership functions. After POPFNN initializes the rule space based on the input and output membership functions. The function printrulelabels prints out all the rules, the membership function labels for each input, and the pseudo weights of each rule."
      ]
    },
    {
      "cell_type": "code",
      "metadata": {
        "id": "eGBMOVgb_WXi"
      },
      "source": [
        "inmf = span_learnmem(dataset, [3, 0.5])\n",
        "outmf = span_learnmem(labels, [3, 0.5])\n",
        "nf=popfnn(In_mf=inmf, Out_mf=outmf)\n",
        "nf.printruleslabels()"
      ],
      "execution_count": null,
      "outputs": []
    },
    {
      "cell_type": "markdown",
      "metadata": {
        "id": "V3JvfEVY_WXi"
      },
      "source": [
        "<font color=red>Question 1(a)</font>: How many rules are initialized in the above code? <font color='red'>(0.5 mark)</font>"
      ]
    },
    {
      "cell_type": "markdown",
      "metadata": {
        "id": "vh5SOydn_WXj"
      },
      "source": [
        "Enter your answer to Question 1(a) here.\n",
        "Number of rules initialized =\n"
      ]
    },
    {
      "cell_type": "markdown",
      "metadata": {
        "id": "wv912a_1_WXj"
      },
      "source": [
        "<font color=red>Question 1(b)</font>: How many rules are generated if you change span_learnmem to generate 2 membership functions instead of 3 for both input and output membership functions? <font color=blue>Hint: Examine the code carefully. </font><font color='red'>(0.5 mark)</font>"
      ]
    },
    {
      "cell_type": "code",
      "metadata": {
        "id": "jqXsLFZG_WXj"
      },
      "source": [
        "# Modify code for question 1(b) here\n",
        "inmf2 = span_learnmem(dataset, [3, 0.5])\n",
        "outmf2 = span_learnmem(labels, [2, 0.5])\n",
        "nf2=popfnn(In_mf=inmf, Out_mf=outmf)\n",
        "nf2.printruleslabels()"
      ],
      "execution_count": null,
      "outputs": []
    },
    {
      "cell_type": "markdown",
      "metadata": {
        "id": "hrK-VtUM_WXj"
      },
      "source": [
        "Enter your answer to Question 1(b) here. Number of rules initialized =\n"
      ]
    },
    {
      "cell_type": "code",
      "metadata": {
        "id": "yB6lDqvI_WXj"
      },
      "source": [
        "x = np.linspace(-15, 10, 101)\n",
        "plt.plot(x, evalmf(inmf[0][0], x))\n",
        "plt.plot(x, evalmf(inmf[0][1], x))\n",
        "plt.xlabel('$x_1$')\n",
        "plt.ylabel('$\\mu(x_1)$')\n",
        "plt.title('Membership Functions for Input $x_1$')"
      ],
      "execution_count": null,
      "outputs": []
    },
    {
      "cell_type": "code",
      "metadata": {
        "id": "b8S-J6mS_WXk"
      },
      "source": [
        "plt.plot(x, evalmf(inmf[1][0], x))\n",
        "plt.plot(x, evalmf(inmf[1][1], x))\n",
        "plt.xlabel('$x_2$')\n",
        "plt.ylabel('$\\mu(x_2)$')\n",
        "plt.title('Membership Functions for Input $x_2$')"
      ],
      "execution_count": null,
      "outputs": []
    },
    {
      "cell_type": "code",
      "metadata": {
        "id": "GfCIWQwL_WXk"
      },
      "source": [
        "y = np.linspace(0, 2.5, 101)\n",
        "plt.plot(y, evalmf(outmf[0][0], y))\n",
        "plt.plot(y, evalmf(outmf[0][1], y))\n",
        "plt.xlabel('$y_1$')\n",
        "plt.ylabel('$\\mu(y)$')\n",
        "plt.title('Membership Functions for Output $y_1$')"
      ],
      "execution_count": null,
      "outputs": []
    },
    {
      "cell_type": "markdown",
      "metadata": {
        "id": "9Ifdl_3l_WXl"
      },
      "source": [
        "<font color=red>Question 2(a)</font>: Modify the span_learnmem to include a parameter called tail. If parameter is true, then all the membership functions generated will cover the universe of discourse. <font color=blue>Hint: One end of the left most and the other end of the right most membership function will give a membership value of 1, but not the middle of the membership function. </font><font color='red'>(0.5 mark)</font>"
      ]
    },
    {
      "cell_type": "code",
      "metadata": {
        "id": "VlM2pP6T_WXl"
      },
      "source": [
        "# Modify the below code here for Question 2(a).\n",
        "def span_learnmem1(x, params):\n",
        "\n",
        "    assert len(params) == 3, 'spam_learnmem1 function must have 3 parameters.'\n",
        "    nlabels, width, tail = np.asarray(params)\n",
        "    nlabels=int(nlabels)\n",
        "    tail=bool(tail)\n",
        "\n",
        "    # First get the max and min of each dimension\n",
        "    maxx=np.amax(x, axis=0)\n",
        "    minx=np.amin(x, axis=0)\n",
        "\n",
        "    if x.ndim==1:\n",
        "        ninputs=1\n",
        "    else:\n",
        "        ninputs=np.size(x,1)\n",
        "\n",
        "    for i in range(ninputs):\n",
        "        if ninputs==1:\n",
        "            centroids=np.linspace(minx,maxx,int(nlabels))\n",
        "        else:\n",
        "            centroids=np.linspace(minx[i],maxx[i],int(nlabels))\n",
        "        sig=(centroids[1]-centroids[0])*width\n",
        "        mf=[]\n",
        "        for j in range(nlabels):\n",
        "            mf.append(fismf(Type = 'gauss2mf', Parameters = [sig, centroids[j], sig, centroids[j]]))\n",
        "        fis.append(mf)\n",
        "    return fis\n"
      ],
      "execution_count": null,
      "outputs": []
    },
    {
      "cell_type": "markdown",
      "metadata": {
        "id": "Vxhruvfa_WXm"
      },
      "source": [
        "<font color=red>Question 2(b)</font>: Use the above modified span_learnmem and plot nlabels=5 membership functions with tail=true for $x_2$ <font color='red'>(0.5 mark)</font>"
      ]
    },
    {
      "cell_type": "code",
      "metadata": {
        "id": "mb6pK_Uh_WXm"
      },
      "source": [
        "# Enter code here for Question 2(b)."
      ],
      "execution_count": null,
      "outputs": []
    },
    {
      "cell_type": "markdown",
      "metadata": {
        "id": "eNfUykxJ_WXm"
      },
      "source": [
        "<font color=red>Question 3(a)</font>: Now modify span_learnmem2 below without the width parameter and automatically compute the width such that the membership functions intersect at value $\\mu=0.5$ between the centroids. Retain the tail parameter. <font color='red'>(0.5 mark)</font>"
      ]
    },
    {
      "cell_type": "code",
      "metadata": {
        "id": "1d6ZKPmf_WXm"
      },
      "source": [
        "# This function creates nlabels number of gauss2mf that spans min and max of the inputs\n",
        "def span_learnmem2(x, params):\n",
        "\n",
        "    assert len(params) == 2, 'spam_learnmem function must have 2 parameters.'\n",
        "    nlabels, tail = np.asarray(params)\n",
        "    nlabels=int(nlabels)\n",
        "    tail=bool(tail)\n",
        "\n",
        "    # First get the max and min of each dimension\n",
        "    maxx=np.amax(x, axis=0)\n",
        "    minx=np.amin(x, axis=0)\n",
        "\n",
        "    if x.ndim==1:\n",
        "        ninputs=1\n",
        "    else:\n",
        "        ninputs=np.size(x,1)\n",
        "\n",
        "    for i in range(ninputs):\n",
        "        if ninputs==1:\n",
        "            centroids=np.linspace(minx,maxx,int(nlabels))\n",
        "        else:\n",
        "            centroids=np.linspace(minx[i],maxx[i],int(nlabels))\n",
        "        sig=(centroids[1]-centroids[0])*width\n",
        "        mf=[]\n",
        "        for j in range(nlabels):\n",
        "            mf.append(fismf(Type = 'gauss2mf', Parameters = [sig, centroids[j], sig, centroids[j]]))\n",
        "        fis.append(mf)\n",
        "    return fis"
      ],
      "execution_count": null,
      "outputs": []
    },
    {
      "cell_type": "markdown",
      "metadata": {
        "id": "zgSdnbef_WXn"
      },
      "source": [
        "<font color=red>Question 3(b)</font>: Use the above modified span_learnmem and plot nlabels=3 membership functions with tail=true for $x_1$ <font color='red'>(0.5 mark)</font>"
      ]
    },
    {
      "cell_type": "code",
      "metadata": {
        "id": "3-qsMHci_WXn"
      },
      "source": [
        "# Enter code here for Question 3(b)."
      ],
      "execution_count": null,
      "outputs": []
    },
    {
      "cell_type": "markdown",
      "metadata": {
        "id": "slGvG8g-_WXn"
      },
      "source": [
        "<font color=red>Question 4</font>: Now create a new LVQ_learnmem with nlabels and tail parameters. Then plot nlabels=2 membership functions with tail=true for $x_2$. You can refer to code from AI6124 Assignment 3. Also automatically compute the width such that the membership functions intersect at value $\\mu=0.5$ between the centroids<font color='red'> (1 mark)</font>"
      ]
    },
    {
      "cell_type": "code",
      "metadata": {
        "id": "43LdMh-O_WXo"
      },
      "source": [
        "# Enter code here for Question 4."
      ],
      "execution_count": null,
      "outputs": []
    },
    {
      "cell_type": "markdown",
      "metadata": {
        "id": "h0KInu6k_WXo"
      },
      "source": [
        "# 5. Train the POPFNN using POP learning\n",
        "\n",
        "Next we train the POPFNN Neuro-Fuzzy System using Pseudo Outer-Product Learning algorithm. Becareful that you do not change some of the codes along the way. Check to ensure this code below produce only 4 if-then fuzzy rules before continue with the rest of the questions."
      ]
    },
    {
      "cell_type": "code",
      "metadata": {
        "id": "2TkqW8SW_WXo"
      },
      "source": [
        "# Perform POP learning\n",
        "inmf = span_learnmem(dataset, [2, 0.5])\n",
        "outmf = span_learnmem(labels, [2, 0.5])\n",
        "nf=popfnn(In_mf=inmf, Out_mf=outmf)\n",
        "for k in range(len(dataset)):\n",
        "    nf.poplearn(dataset[k],labels[k])\n",
        "nf.printruleslabels()"
      ],
      "execution_count": null,
      "outputs": []
    },
    {
      "cell_type": "markdown",
      "metadata": {
        "id": "CDVSD_bW_WXp"
      },
      "source": [
        "<font color=red>Question 5</font>: Examine the pseudo weights (pweights) for each output label in the output above. At the end of POP learning, each pweight corresponds to the respective outputs. Create a function in POPFNN class call identify_rules to identify the consequent for each rule based on the value of the pweights. <font color=blue>Hint: You just need to print the rule_number and the consequent. </font><font color='red'>(1 mark)</font>"
      ]
    },
    {
      "cell_type": "code",
      "source": [
        "# Modify code in POPFNN class for Question 5\n",
        "# Code to print rules for Question 5\n",
        "nf.identify_rules()"
      ],
      "metadata": {
        "id": "FIxkNstJS4In"
      },
      "execution_count": null,
      "outputs": []
    },
    {
      "cell_type": "markdown",
      "source": [
        "<font color=red>Question 6</font>: Now create a function call print_int_labels in POPFNN class to print fuzzy if-then rules in an interpretable form with the consequent identified from question 5 above. <font color=blue>Hint: The if-then fuzzy rule printed should be in the form: \"Rule 0: If x1 is small and x2 is large Then y is blue\".</font><font color='red'>(1 mark)</font>  "
      ],
      "metadata": {
        "id": "9-uFBhMMPsLg"
      }
    },
    {
      "cell_type": "code",
      "metadata": {
        "id": "a8RqNGwJ_WXq"
      },
      "source": [
        "# Code to print interpretable rules for Question 8.\n",
        "nf.print_int_labels()"
      ],
      "execution_count": null,
      "outputs": []
    },
    {
      "cell_type": "markdown",
      "metadata": {
        "id": "0y3OcqFJ_WXq"
      },
      "source": [
        "<font color=red>Question 7</font>: Now change the generation of membership function to LVQ with nlabels=2 and tail=true. Retrain the fuzzy rules and print the rules for inspection. Any changes in the interpretable rules identified? <font color='red'>(1 mark)</font>"
      ]
    },
    {
      "cell_type": "code",
      "metadata": {
        "id": "4zUqC3rx_WXq"
      },
      "source": [
        "# Enter code for Question 7\n",
        "\n",
        "# Code to print interpretable rules for Question 7\n",
        "nf.print_int_labels()"
      ],
      "execution_count": null,
      "outputs": []
    },
    {
      "cell_type": "markdown",
      "source": [
        "Enter your answer to Question 7 here. [Answer Yes or No]"
      ],
      "metadata": {
        "id": "cWz9wq3NXWvU"
      }
    },
    {
      "cell_type": "markdown",
      "metadata": {
        "id": "AMFQ3ivb_WXr"
      },
      "source": [
        "<font color=red>Question 8</font>: Now inspect the pseudo weights again. Some of the rules have pseudo weights that are very similar for both output labels. Implement another function to identify the more significant rules such that the pseduo weight for a particular output label is much higher than the other output labels. <font color=blue>Hint: How significant the rule is depends on a parameter that can be specified.You can specify this parameter. Examine the pweights carefully. Hints will also be mentioned in lecture.</font><font color='red'>(1 mark)</font>"
      ]
    },
    {
      "cell_type": "code",
      "metadata": {
        "id": "FrrA7-JN_WXr"
      },
      "source": [
        "# Enter code for Question 8."
      ],
      "execution_count": null,
      "outputs": []
    },
    {
      "cell_type": "markdown",
      "metadata": {
        "id": "vH67zXEwI8nx"
      },
      "source": [
        "<font color=red>Question 9</font>: Now implement a function in POPFNN class to predict the label y using the learned if-then-fuzzy rules. Use the optimized rules after question 8 above. However, if you are unable to answer question 8 above, you can use the unoptimized rules, but you have to indicate so in the answers.<font color=blue>Hint: You have to implement Compositional Rule of Inference (CRI) using the inputs values, the input membership function, and the output membership function. For defuzzification, you can use the Centre of Area for  Gaussian output membership function, which is just the Singleton value for the centroid of the output membership function.</font><font color='red'> (2 marks)</font>"
      ]
    },
    {
      "cell_type": "code",
      "source": [
        "# Code for Question 9\n",
        "seed(1234)\n",
        "testdataset = np.random.randn(4,2)\n",
        "testdataset[0:2]+=(+2)\n",
        "testdataset[3:4]+=(-2)\n",
        "print(testdataset)\n",
        "predicted_y=nf.poppredict(testdataset)\n",
        "print(predicted_y)"
      ],
      "metadata": {
        "id": "pAGBmL_SHaL7"
      },
      "execution_count": null,
      "outputs": []
    }
  ]
}